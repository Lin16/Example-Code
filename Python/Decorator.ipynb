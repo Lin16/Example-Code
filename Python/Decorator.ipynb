{
 "cells": [
  {
   "cell_type": "code",
   "execution_count": 1,
   "metadata": {},
   "outputs": [],
   "source": [
    "# title: Decorator sample\n",
    "# change log: 2021-08-22 add memoization\n",
    "\n",
    "# package:\n",
    "\n",
    "# reference:\n",
    "# "
   ]
  },
  {
   "cell_type": "code",
   "execution_count": 2,
   "metadata": {},
   "outputs": [
    {
     "name": "stdout",
     "output_type": "stream",
     "text": [
      "2024-09-20 17:35:28\n",
      "開始執行 sum\n",
      "執行時間：0.025480 秒\n",
      "sum 執行結果 3\n"
     ]
    }
   ],
   "source": [
    "import time\n",
    "\n",
    "def sum(a, b):\n",
    "    # 開始測量\n",
    "    start = time.localtime()\n",
    "    print(time.strftime(\"%Y-%m-%d %H:%M:%S\", start))\n",
    "\n",
    "    # 開始執行\n",
    "    print(\"開始執行 sum\")\n",
    "    result= a + b\n",
    "\n",
    "    # 輸出結果\n",
    "    print(\"執行時間：%f 秒\" % (time.time() - time.mktime(start)))\n",
    "    return result\n",
    "\n",
    "print('sum 執行結果', sum(1, 2))\n"
   ]
  },
  {
   "cell_type": "code",
   "execution_count": 3,
   "metadata": {},
   "outputs": [
    {
     "name": "stdout",
     "output_type": "stream",
     "text": [
      "2024-09-20 17:35:28\n",
      "開始執行  sum\n",
      "執行時間：0.036479 秒\n",
      "sum 執行結果 3\n"
     ]
    }
   ],
   "source": [
    "import time\n",
    "def sum(a, b):\n",
    "    return a + b\n",
    "\n",
    "def debug(func):\n",
    "    def wrapper(*args, **kwargs):\n",
    "        # 開始測量\n",
    "        start = time.localtime()\n",
    "        print(time.strftime(\"%Y-%m-%d %H:%M:%S\", start))\n",
    "\n",
    "        print('開始執行 ', func.__name__)\n",
    "        result = func(*args, **kwargs)\n",
    "\n",
    "        # 輸出結果\n",
    "        print(\"執行時間：%f 秒\" % (time.time() - time.mktime(start)))\n",
    "        print(func.__name__, '執行結果', result)\n",
    "    return wrapper\n",
    "\n",
    "# 可以簡化寫法\n",
    "# debug(sum)(1, 2)\n",
    "debug_sum = debug(sum)\n",
    "debug_sum(1, 2)\n"
   ]
  },
  {
   "cell_type": "code",
   "execution_count": 4,
   "metadata": {},
   "outputs": [
    {
     "name": "stdout",
     "output_type": "stream",
     "text": [
      "2024-09-20 17:35:28\n",
      "開始執行  sum\n",
      "執行時間：0.052479 秒\n",
      "sum 執行結果 3\n"
     ]
    }
   ],
   "source": [
    "import time\n",
    "from functools import wraps\n",
    "\n",
    "def debug(func):\n",
    "    @wraps(func)\n",
    "    def wrapper(*args, **kwargs):\n",
    "        # 開始測量\n",
    "        start = time.localtime()\n",
    "        print(time.strftime(\"%Y-%m-%d %H:%M:%S\", start))\n",
    "\n",
    "        print('開始執行 ', func.__name__)\n",
    "        result = func(*args, **kwargs)\n",
    "\n",
    "        # 輸出結果\n",
    "        print(\"執行時間：%f 秒\" % (time.time() - time.mktime(start)))\n",
    "        print(func.__name__, '執行結果', result)\n",
    "    return wrapper\n",
    "\n",
    "@debug\n",
    "def sum(a, b):\n",
    "    return a + b\n",
    "\n",
    "sum(1, 2)\n",
    "\n",
    "# 不加 @wraps 會發生以下問題\n",
    "# print('func', sum.__name__)\n",
    "# print('doc', sum.__doc__)\n",
    "# func名稱變成wrapper\n",
    "# func wrapper\n",
    "# doc None"
   ]
  }
 ],
 "metadata": {
  "kernelspec": {
   "display_name": "Demo",
   "language": "python",
   "name": "python3"
  },
  "language_info": {
   "codemirror_mode": {
    "name": "ipython",
    "version": 3
   },
   "file_extension": ".py",
   "mimetype": "text/x-python",
   "name": "python",
   "nbconvert_exporter": "python",
   "pygments_lexer": "ipython3",
   "version": "3.10.10"
  }
 },
 "nbformat": 4,
 "nbformat_minor": 2
}
