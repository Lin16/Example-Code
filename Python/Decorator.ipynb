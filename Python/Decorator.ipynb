{
 "cells": [
  {
   "cell_type": "code",
   "execution_count": 11,
   "metadata": {},
   "outputs": [],
   "source": [
    "# title: Decorator sample\n",
    "# change log: 2021-08-22 add memoization\n",
    "\n",
    "# package:\n",
    "\n",
    "# reference:\n",
    "# https://lin16.github.io/p/python-decorator/"
   ]
  },
  {
   "cell_type": "code",
   "execution_count": 12,
   "metadata": {},
   "outputs": [
    {
     "name": "stdout",
     "output_type": "stream",
     "text": [
      "2024-09-25 22:55:05\n",
      "開始執行 sum\n",
      "執行時間：0.572237 秒\n",
      "sum 執行結果 3\n"
     ]
    }
   ],
   "source": [
    "import time\n",
    "\n",
    "def sum(a, b):\n",
    "    # 開始測量\n",
    "    start = time.localtime()\n",
    "    print(time.strftime(\"%Y-%m-%d %H:%M:%S\", start))\n",
    "\n",
    "    # 開始執行\n",
    "    print(\"開始執行 sum\")\n",
    "    result= a + b\n",
    "\n",
    "    # 輸出結果\n",
    "    print(\"執行時間：%f 秒\" % (time.time() - time.mktime(start)))\n",
    "    return result\n",
    "\n",
    "print('sum 執行結果', sum(1, 2))\n"
   ]
  },
  {
   "cell_type": "code",
   "execution_count": 13,
   "metadata": {},
   "outputs": [
    {
     "name": "stdout",
     "output_type": "stream",
     "text": [
      "2024-09-25 22:55:05\n",
      "開始執行  sum\n",
      "執行時間：0.587379 秒\n",
      "sum 執行結果 3\n"
     ]
    }
   ],
   "source": [
    "import time\n",
    "def sum(a, b):\n",
    "    return a + b\n",
    "\n",
    "def debug(func):\n",
    "    def wrapper(*args, **kwargs):\n",
    "        # 開始測量\n",
    "        start = time.localtime()\n",
    "        print(time.strftime(\"%Y-%m-%d %H:%M:%S\", start))\n",
    "\n",
    "        print('開始執行 ', func.__name__)\n",
    "        result = func(*args, **kwargs)\n",
    "\n",
    "        # 輸出結果\n",
    "        print(\"執行時間：%f 秒\" % (time.time() - time.mktime(start)))\n",
    "        print(func.__name__, '執行結果', result)\n",
    "    return wrapper\n",
    "\n",
    "# 可以簡化寫法\n",
    "# debug(sum)(1, 2)\n",
    "debug_sum = debug(sum)\n",
    "debug_sum(1, 2)\n"
   ]
  },
  {
   "cell_type": "code",
   "execution_count": 14,
   "metadata": {},
   "outputs": [
    {
     "name": "stdout",
     "output_type": "stream",
     "text": [
      "2024-09-25 22:55:05\n",
      "args type: <class 'tuple'>\n",
      "args: (1, 2)\n",
      "kwargs type: <class 'dict'>\n",
      "kwargs: {}\n",
      "開始執行  sum\n",
      "執行時間：0.603364 秒\n",
      "執行時間：0.603364 秒\n",
      "sum 執行結果 3\n"
     ]
    }
   ],
   "source": [
    "import time\n",
    "from functools import wraps\n",
    "\n",
    "def debug(func):\n",
    "    @wraps(func)\n",
    "    def wrapper(*args, **kwargs):\n",
    "        # 開始測量\n",
    "        start = time.localtime()\n",
    "        print(time.strftime(\"%Y-%m-%d %H:%M:%S\", start))\n",
    "        print(f\"args type: {type(args)}\")\n",
    "        print(f\"args: {args}\")\n",
    "        print(f\"kwargs type: {type(kwargs)}\")\n",
    "        print(f\"kwargs: {kwargs}\")\n",
    "        print('開始執行 ', func.__name__)\n",
    "        result = func(*args, **kwargs)\n",
    "\n",
    "        # 輸出結果\n",
    "        print(\"執行時間：%f 秒\" % (time.time() - time.mktime(start)))\n",
    "        print(f\"執行時間：{(time.time() - time.mktime(start)):f} 秒\")\n",
    "        print(func.__name__, '執行結果', result)\n",
    "    return wrapper\n",
    "\n",
    "@debug\n",
    "def sum(a, b):\n",
    "    return a + b\n",
    "\n",
    "sum(1, 2)\n",
    "\n",
    "# 不加 @wraps 會發生以下問題\n",
    "# print('func', sum.__name__)\n",
    "# print('doc', sum.__doc__)\n",
    "# func名稱變成wrapper\n",
    "# func wrapper\n",
    "# doc None"
   ]
  },
  {
   "cell_type": "code",
   "execution_count": 15,
   "metadata": {},
   "outputs": [
    {
     "name": "stdout",
     "output_type": "stream",
     "text": [
      "['a', 'b', 'c']\n",
      "2\n",
      "{'c': False}\n",
      "False\n",
      "spec: FullArgSpec(args=['a', 'b', 'c'], varargs=None, varkw=None, defaults=(False,), kwonlyargs=[], kwonlydefaults=None, annotations={'c': <class 'bool'>})\n",
      "2024-09-25 22:55:05\n",
      "args type: <class 'tuple'>\n",
      "args: (1, 2)\n",
      "kwargs type: <class 'dict'>\n",
      "kwargs: {}\n",
      "開始執行  sum\n",
      "執行時間：0.622081 秒\n",
      "sum 執行結果 3\n"
     ]
    }
   ],
   "source": [
    "import time\n",
    "from functools import wraps\n",
    "import inspect\n",
    "\n",
    "def debug(func):\n",
    "    @wraps(func)\n",
    "    def wrapper(*args, **kwargs):\n",
    "        # 取得所有參數名稱\n",
    "        params = func.__code__.co_varnames[:func.__code__.co_argcount]\n",
    "        params_list = list(params)\n",
    "        print(params_list)\n",
    "        # 取得參數Index\n",
    "        index = params_list.index(\"c\")\n",
    "        print(index)\n",
    "        # 根據Index取值\n",
    "        #print(args[index])\n",
    "\n",
    "        # 取參數預設值\n",
    "        signature_list ={\n",
    "        k: v.default\n",
    "        for k, v in inspect.signature(func).parameters.items()\n",
    "        if v.default is not inspect.Parameter.empty\n",
    "        }\n",
    "        print(signature_list)\n",
    "        signature = inspect.signature(func).parameters[\"c\"].default\n",
    "        print(signature)\n",
    "\n",
    "        spec = inspect.getfullargspec(func)\n",
    "        print(f\"spec: {spec}\")\n",
    "\n",
    "\n",
    "        print(f\"args type: {type(args)}\")\n",
    "        print(f\"args: {args}\")\n",
    "        print(f\"kwargs type: {type(kwargs)}\")\n",
    "        print(f\"kwargs: {kwargs}\")\n",
    "        print('開始執行 ', func.__name__)\n",
    "        result = func(*args, **kwargs)\n",
    "\n",
    "    return wrapper\n",
    "\n",
    "@debug\n",
    "def sum(a, b, c: bool=False):\n",
    "    return a + b\n",
    "\n",
    "sum(1, 2)"
   ]
  },
  {
   "cell_type": "code",
   "execution_count": 23,
   "metadata": {},
   "outputs": [
    {
     "name": "stdout",
     "output_type": "stream",
     "text": [
      "kwds: {'c': False}\n",
      "kwds: {'c': False}\n",
      "2024-09-25 22:59:37\n",
      "args type: <class 'tuple'>\n",
      "args: (1, 2, True)\n",
      "kwargs type: <class 'dict'>\n",
      "kwargs: {}\n",
      "開始執行  sum\n",
      "執行時間：0.945893 秒\n",
      "sum 執行結果 3\n"
     ]
    }
   ],
   "source": [
    "import time\n",
    "from functools import wraps\n",
    "import inspect\n",
    "\n",
    "def get_default_args(func):\n",
    "    signature = inspect.signature(func)\n",
    "    return {\n",
    "        k: v.default\n",
    "        for k, v in signature.parameters.items()\n",
    "        if v.default is not inspect.Parameter.empty\n",
    "    }\n",
    "\n",
    "def debug(func):\n",
    "    @wraps(func)\n",
    "    def wrapper(*args, **kwargs):\n",
    "        kwds = get_default_args(func)\n",
    "        print('kwds:', kwds)\n",
    "        kwds.update(kwargs)\n",
    "        print('kwds:', kwds)\n",
    "\n",
    "        print(f\"args type: {type(args)}\")\n",
    "        print(f\"args: {args}\")\n",
    "        print(f\"kwargs type: {type(kwargs)}\")\n",
    "        print(f\"kwargs: {kwargs}\")\n",
    "        print('開始執行 ', func.__name__)\n",
    "        result = func(*args, **kwargs)\n",
    "\n",
    "    return wrapper\n",
    "\n",
    "@debug\n",
    "def sum(a, b, c: bool=False):\n",
    "    return a + b\n",
    "\n",
    "sum(1, 2, True)"
   ]
  },
  {
   "cell_type": "code",
   "execution_count": 31,
   "metadata": {},
   "outputs": [
    {
     "name": "stdout",
     "output_type": "stream",
     "text": [
      "Calling decorated function\n",
      "called with: {'a': 1, 'b': 2, 'c': True}\n",
      "args type: <class 'tuple'>\n",
      "args: (1, 2, True)\n",
      "kwargs type: <class 'dict'>\n",
      "kwargs: {}\n",
      "開始執行  sum\n"
     ]
    }
   ],
   "source": [
    "import time\n",
    "from functools import wraps\n",
    "import inspect\n",
    "\n",
    "def debug(func):\n",
    "\n",
    "    @wraps(func)\n",
    "    def wrapper(*args, **kwargs):\n",
    "        sig = inspect.signature(func)\n",
    "        bound = sig.bind(*args, **kwargs)\n",
    "        bound.apply_defaults()\n",
    "        print('Calling decorated function')\n",
    "        print('called with:', bound.arguments)\n",
    "\n",
    "        print(f\"args type: {type(args)}\")\n",
    "        print(f\"args: {args}\")\n",
    "        print(f\"kwargs type: {type(kwargs)}\")\n",
    "        print(f\"kwargs: {kwargs}\")\n",
    "        print('開始執行 ', func.__name__)\n",
    "        result = func(*args, **kwargs)\n",
    "\n",
    "    return wrapper\n",
    "\n",
    "@debug\n",
    "def sum(a, b, c: bool=False):\n",
    "    return a + b\n",
    "\n",
    "sum(1, 2, True)"
   ]
  }
 ],
 "metadata": {
  "kernelspec": {
   "display_name": "Example-Code-Env",
   "language": "python",
   "name": "python3"
  },
  "language_info": {
   "codemirror_mode": {
    "name": "ipython",
    "version": 3
   },
   "file_extension": ".py",
   "mimetype": "text/x-python",
   "name": "python",
   "nbconvert_exporter": "python",
   "pygments_lexer": "ipython3",
   "version": "3.10.10"
  }
 },
 "nbformat": 4,
 "nbformat_minor": 2
}
